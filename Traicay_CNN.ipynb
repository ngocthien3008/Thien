{
  "nbformat": 4,
  "nbformat_minor": 0,
  "metadata": {
    "colab": {
      "name": "Traicay_CNN.ipynb",
      "provenance": [],
      "collapsed_sections": []
    },
    "kernelspec": {
      "name": "python3",
      "display_name": "Python 3"
    },
    "language_info": {
      "name": "python"
    }
  },
  "cells": [
    {
      "cell_type": "code",
      "execution_count": null,
      "metadata": {
        "id": "xpnDF4qZyQRX"
      },
      "outputs": [],
      "source": [
        "import tensorflow as tf\n",
        "from tensorflow import keras\n",
        "from keras.models import Sequential\n",
        "from keras.layers.convolutional import Conv2D, MaxPooling2D\n",
        "from keras.layers import Flatten, Dense, Dropout, Activation\n",
        "from google.colab import drive\n",
        "from tensorflow.keras.preprocessing.image import ImageDataGenerator\n",
        "from google.colab import drive\n",
        "from tensorflow.keras.optimizers import SGD\n",
        "from tensorflow.keras.callbacks import EarlyStopping\n",
        "from tensorflow.keras.utils import load_img\n",
        "from tensorflow.keras.utils import img_to_array\n",
        "import matplotlib.pyplot as plt\n",
        "import pandas as pd \n",
        "import numpy as np\n",
        "import math"
      ]
    },
    {
      "cell_type": "code",
      "source": [
        "drive.mount('/content/drive',force_remount=True)\n",
        "train_datagen = ImageDataGenerator(rescale=1./255,\n",
        "                                   shear_range=0.2,\n",
        "                                   zoom_range=0.2,\n",
        "                                   horizontal_flip=True)\n",
        "train=train_datagen.flow_from_directory('/content/drive/MyDrive/Fruit/Train_fruit',\n",
        "                                               target_size=(256,256),\n",
        "                                               batch_size=32,\n",
        "                                               class_mode ='categorical')\n",
        "test=train_datagen.flow_from_directory('/content/drive/MyDrive/Fruit/Test_fruit',\n",
        "                                               target_size=(256,256),\n",
        "                                               batch_size=32,\n",
        "                                               class_mode ='categorical')"
      ],
      "metadata": {
        "colab": {
          "base_uri": "https://localhost:8080/"
        },
        "id": "vMH1IBc6yi2J",
        "outputId": "f9d665c6-e6a6-4c82-f429-68ccba999d67"
      },
      "execution_count": null,
      "outputs": [
        {
          "output_type": "stream",
          "name": "stdout",
          "text": [
            "Mounted at /content/drive\n",
            "Found 64 images belonging to 10 classes.\n",
            "Found 74 images belonging to 10 classes.\n"
          ]
        }
      ]
    },
    {
      "cell_type": "code",
      "source": [
        "train.class_indices"
      ],
      "metadata": {
        "colab": {
          "base_uri": "https://localhost:8080/"
        },
        "id": "a1AHSja_zfXN",
        "outputId": "a283eb4e-7af6-4a43-ccef-8bf98240dd49"
      },
      "execution_count": null,
      "outputs": [
        {
          "output_type": "execute_result",
          "data": {
            "text/plain": [
              "{'chanh': 0,\n",
              " 'chuoi': 1,\n",
              " 'dau': 2,\n",
              " 'dua': 3,\n",
              " 'duahau': 4,\n",
              " 'kiwi': 5,\n",
              " 'nho': 6,\n",
              " 'tao': 7,\n",
              " 'thanhlong': 8,\n",
              " 'xoai': 9}"
            ]
          },
          "metadata": {},
          "execution_count": 3
        }
      ]
    },
    {
      "cell_type": "code",
      "source": [
        "model=Sequential()\n",
        "model.add(Conv2D(128,(3,3),activation='relu',kernel_initializer='he_uniform',padding='same',input_shape=(256,256,3)))\n",
        "model.add(MaxPooling2D(pool_size=(2,2)))\n",
        "model.add(Conv2D(64,(3,3),activation='relu',kernel_initializer='he_uniform',padding='same'))\n",
        "model.add(MaxPooling2D((2,2)))\n",
        "model.add(Conv2D(32,(3,3),activation='relu',kernel_initializer='he_uniform',padding='same'))\n",
        "model.add(MaxPooling2D((2,2)))\n",
        "model.add(Flatten())\n",
        "model.add(Dense(128,activation='relu',kernel_initializer = 'he_uniform'))\n",
        "model.add(Dense(10,activation='Softmax'))\n"
      ],
      "metadata": {
        "id": "Muznk9MQ0H7X"
      },
      "execution_count": null,
      "outputs": []
    },
    {
      "cell_type": "code",
      "source": [
        "model.summary()"
      ],
      "metadata": {
        "colab": {
          "base_uri": "https://localhost:8080/"
        },
        "id": "kJaIXr8BC9Y5",
        "outputId": "3b4422a5-bac2-464c-ced8-4d32279f6395"
      },
      "execution_count": null,
      "outputs": [
        {
          "output_type": "stream",
          "name": "stdout",
          "text": [
            "Model: \"sequential_1\"\n",
            "_________________________________________________________________\n",
            " Layer (type)                Output Shape              Param #   \n",
            "=================================================================\n",
            " conv2d_3 (Conv2D)           (None, 256, 256, 128)     3584      \n",
            "                                                                 \n",
            " max_pooling2d_3 (MaxPooling  (None, 128, 128, 128)    0         \n",
            " 2D)                                                             \n",
            "                                                                 \n",
            " conv2d_4 (Conv2D)           (None, 128, 128, 64)      73792     \n",
            "                                                                 \n",
            " max_pooling2d_4 (MaxPooling  (None, 64, 64, 64)       0         \n",
            " 2D)                                                             \n",
            "                                                                 \n",
            " conv2d_5 (Conv2D)           (None, 64, 64, 32)        18464     \n",
            "                                                                 \n",
            " max_pooling2d_5 (MaxPooling  (None, 32, 32, 32)       0         \n",
            " 2D)                                                             \n",
            "                                                                 \n",
            " flatten_1 (Flatten)         (None, 32768)             0         \n",
            "                                                                 \n",
            " dense_2 (Dense)             (None, 128)               4194432   \n",
            "                                                                 \n",
            " dense_3 (Dense)             (None, 10)                1290      \n",
            "                                                                 \n",
            "=================================================================\n",
            "Total params: 4,291,562\n",
            "Trainable params: 4,291,562\n",
            "Non-trainable params: 0\n",
            "_________________________________________________________________\n"
          ]
        }
      ]
    },
    {
      "cell_type": "code",
      "source": [
        "from tensorflow.keras.optimizers import SGD\n",
        "from tensorflow.keras.callbacks import EarlyStopping\n",
        "model.compile(optimizer = 'adam', loss ='categorical_crossentropy',metrics = ['accuracy'])\n",
        "callbacks=[EarlyStopping(monitor='val_loss',patience=100)]\n",
        "history=model.fit(train,\n",
        "                  steps_per_epoch=len(train),\n",
        "                  batch_size = 32,\n",
        "                  epochs=50,\n",
        "                  validation_data=test,\n",
        "                  validation_steps=len(test),\n",
        "                  callbacks=callbacks,\n",
        "                  verbose = 1)"
      ],
      "metadata": {
        "colab": {
          "base_uri": "https://localhost:8080/"
        },
        "id": "-oedbIrNC7K4",
        "outputId": "51067ea4-da3a-4c2d-8cf6-9ae648148e55"
      },
      "execution_count": null,
      "outputs": [
        {
          "output_type": "stream",
          "name": "stdout",
          "text": [
            "Epoch 1/50\n",
            "2/2 [==============================] - 21s 20s/step - loss: 4.6574 - accuracy: 0.0781 - val_loss: 2.3727 - val_accuracy: 0.1486\n",
            "Epoch 2/50\n",
            "2/2 [==============================] - 2s 2s/step - loss: 2.3116 - accuracy: 0.1875 - val_loss: 2.2799 - val_accuracy: 0.1351\n",
            "Epoch 3/50\n",
            "2/2 [==============================] - 2s 2s/step - loss: 2.2709 - accuracy: 0.1875 - val_loss: 2.1089 - val_accuracy: 0.2162\n",
            "Epoch 4/50\n",
            "2/2 [==============================] - 3s 2s/step - loss: 1.9833 - accuracy: 0.2812 - val_loss: 2.0328 - val_accuracy: 0.1757\n",
            "Epoch 5/50\n",
            "2/2 [==============================] - 2s 2s/step - loss: 1.8520 - accuracy: 0.3281 - val_loss: 2.0025 - val_accuracy: 0.2162\n",
            "Epoch 6/50\n",
            "2/2 [==============================] - 2s 2s/step - loss: 1.7213 - accuracy: 0.4531 - val_loss: 1.8600 - val_accuracy: 0.3784\n",
            "Epoch 7/50\n",
            "2/2 [==============================] - 2s 2s/step - loss: 1.4316 - accuracy: 0.5938 - val_loss: 2.0006 - val_accuracy: 0.2973\n",
            "Epoch 8/50\n",
            "2/2 [==============================] - 2s 2s/step - loss: 1.3544 - accuracy: 0.5000 - val_loss: 1.7740 - val_accuracy: 0.4189\n",
            "Epoch 9/50\n",
            "2/2 [==============================] - 2s 2s/step - loss: 1.0344 - accuracy: 0.6719 - val_loss: 2.1361 - val_accuracy: 0.3243\n",
            "Epoch 10/50\n",
            "2/2 [==============================] - 2s 2s/step - loss: 1.0776 - accuracy: 0.6562 - val_loss: 1.8598 - val_accuracy: 0.3784\n",
            "Epoch 11/50\n",
            "2/2 [==============================] - 2s 2s/step - loss: 0.8173 - accuracy: 0.7812 - val_loss: 1.8883 - val_accuracy: 0.3784\n",
            "Epoch 12/50\n",
            "2/2 [==============================] - 2s 2s/step - loss: 0.7497 - accuracy: 0.7500 - val_loss: 2.2353 - val_accuracy: 0.4054\n",
            "Epoch 13/50\n",
            "2/2 [==============================] - 2s 2s/step - loss: 0.7236 - accuracy: 0.7344 - val_loss: 2.1329 - val_accuracy: 0.4054\n",
            "Epoch 14/50\n",
            "2/2 [==============================] - 2s 2s/step - loss: 0.5177 - accuracy: 0.8438 - val_loss: 2.3491 - val_accuracy: 0.3378\n",
            "Epoch 15/50\n",
            "2/2 [==============================] - 2s 2s/step - loss: 0.7753 - accuracy: 0.7031 - val_loss: 1.9431 - val_accuracy: 0.3784\n",
            "Epoch 16/50\n",
            "2/2 [==============================] - 2s 2s/step - loss: 0.6278 - accuracy: 0.8125 - val_loss: 2.0830 - val_accuracy: 0.3784\n",
            "Epoch 17/50\n",
            "2/2 [==============================] - 2s 2s/step - loss: 0.6458 - accuracy: 0.7344 - val_loss: 2.2864 - val_accuracy: 0.3919\n",
            "Epoch 18/50\n",
            "2/2 [==============================] - 2s 2s/step - loss: 0.5633 - accuracy: 0.8906 - val_loss: 2.3149 - val_accuracy: 0.4054\n",
            "Epoch 19/50\n",
            "2/2 [==============================] - 2s 2s/step - loss: 0.4104 - accuracy: 0.8906 - val_loss: 2.5870 - val_accuracy: 0.4054\n",
            "Epoch 20/50\n",
            "2/2 [==============================] - 2s 2s/step - loss: 0.3751 - accuracy: 0.8906 - val_loss: 2.5134 - val_accuracy: 0.4324\n",
            "Epoch 21/50\n",
            "2/2 [==============================] - 3s 2s/step - loss: 0.3289 - accuracy: 0.9062 - val_loss: 2.5452 - val_accuracy: 0.3784\n",
            "Epoch 22/50\n",
            "2/2 [==============================] - 3s 2s/step - loss: 0.3018 - accuracy: 0.9062 - val_loss: 2.7181 - val_accuracy: 0.4730\n",
            "Epoch 23/50\n",
            "2/2 [==============================] - 2s 2s/step - loss: 0.2261 - accuracy: 0.9375 - val_loss: 3.0540 - val_accuracy: 0.4324\n",
            "Epoch 24/50\n",
            "2/2 [==============================] - 2s 2s/step - loss: 0.1293 - accuracy: 0.9688 - val_loss: 2.9022 - val_accuracy: 0.5541\n",
            "Epoch 25/50\n",
            "2/2 [==============================] - 2s 2s/step - loss: 0.1830 - accuracy: 0.9688 - val_loss: 3.6810 - val_accuracy: 0.5135\n",
            "Epoch 26/50\n",
            "2/2 [==============================] - 2s 2s/step - loss: 0.2244 - accuracy: 0.9062 - val_loss: 3.7278 - val_accuracy: 0.3784\n",
            "Epoch 27/50\n",
            "2/2 [==============================] - 2s 2s/step - loss: 0.1562 - accuracy: 0.9531 - val_loss: 3.3487 - val_accuracy: 0.4595\n",
            "Epoch 28/50\n",
            "2/2 [==============================] - 2s 2s/step - loss: 0.1918 - accuracy: 0.9531 - val_loss: 3.0099 - val_accuracy: 0.5135\n",
            "Epoch 29/50\n",
            "2/2 [==============================] - 2s 2s/step - loss: 0.1760 - accuracy: 0.9062 - val_loss: 3.5697 - val_accuracy: 0.4865\n",
            "Epoch 30/50\n",
            "2/2 [==============================] - 2s 2s/step - loss: 0.1171 - accuracy: 0.9531 - val_loss: 3.4695 - val_accuracy: 0.4730\n",
            "Epoch 31/50\n",
            "2/2 [==============================] - 2s 2s/step - loss: 0.1105 - accuracy: 0.9688 - val_loss: 3.6623 - val_accuracy: 0.4189\n",
            "Epoch 32/50\n",
            "2/2 [==============================] - 2s 2s/step - loss: 0.0275 - accuracy: 1.0000 - val_loss: 3.3948 - val_accuracy: 0.4865\n",
            "Epoch 33/50\n",
            "2/2 [==============================] - 2s 2s/step - loss: 0.0715 - accuracy: 0.9844 - val_loss: 4.1050 - val_accuracy: 0.4730\n",
            "Epoch 34/50\n",
            "2/2 [==============================] - 2s 2s/step - loss: 0.0701 - accuracy: 0.9844 - val_loss: 3.9709 - val_accuracy: 0.5135\n",
            "Epoch 35/50\n",
            "2/2 [==============================] - 2s 2s/step - loss: 0.0184 - accuracy: 1.0000 - val_loss: 3.9046 - val_accuracy: 0.5541\n",
            "Epoch 36/50\n",
            "2/2 [==============================] - 2s 2s/step - loss: 0.0128 - accuracy: 1.0000 - val_loss: 3.8845 - val_accuracy: 0.5811\n",
            "Epoch 37/50\n",
            "2/2 [==============================] - 2s 2s/step - loss: 0.0226 - accuracy: 1.0000 - val_loss: 4.0123 - val_accuracy: 0.4730\n",
            "Epoch 38/50\n",
            "2/2 [==============================] - 2s 2s/step - loss: 0.0182 - accuracy: 1.0000 - val_loss: 3.9047 - val_accuracy: 0.5541\n",
            "Epoch 39/50\n",
            "2/2 [==============================] - 2s 2s/step - loss: 0.0171 - accuracy: 1.0000 - val_loss: 3.4335 - val_accuracy: 0.5811\n",
            "Epoch 40/50\n",
            "2/2 [==============================] - 2s 2s/step - loss: 0.0092 - accuracy: 1.0000 - val_loss: 3.3465 - val_accuracy: 0.4865\n",
            "Epoch 41/50\n",
            "2/2 [==============================] - 2s 2s/step - loss: 0.0251 - accuracy: 1.0000 - val_loss: 3.1927 - val_accuracy: 0.5000\n",
            "Epoch 42/50\n",
            "2/2 [==============================] - 2s 2s/step - loss: 0.0123 - accuracy: 1.0000 - val_loss: 3.3072 - val_accuracy: 0.5270\n",
            "Epoch 43/50\n",
            "2/2 [==============================] - 2s 2s/step - loss: 0.0085 - accuracy: 1.0000 - val_loss: 3.7640 - val_accuracy: 0.4865\n",
            "Epoch 44/50\n",
            "2/2 [==============================] - 2s 2s/step - loss: 0.0150 - accuracy: 1.0000 - val_loss: 3.1961 - val_accuracy: 0.5676\n",
            "Epoch 45/50\n",
            "2/2 [==============================] - 2s 2s/step - loss: 0.0048 - accuracy: 1.0000 - val_loss: 3.6857 - val_accuracy: 0.5541\n",
            "Epoch 46/50\n",
            "2/2 [==============================] - 2s 2s/step - loss: 0.0270 - accuracy: 0.9844 - val_loss: 4.1668 - val_accuracy: 0.5405\n",
            "Epoch 47/50\n",
            "2/2 [==============================] - 2s 2s/step - loss: 0.0069 - accuracy: 1.0000 - val_loss: 4.6853 - val_accuracy: 0.5676\n",
            "Epoch 48/50\n",
            "2/2 [==============================] - 2s 2s/step - loss: 0.0970 - accuracy: 0.9844 - val_loss: 4.2189 - val_accuracy: 0.4865\n",
            "Epoch 49/50\n",
            "2/2 [==============================] - 2s 2s/step - loss: 0.0049 - accuracy: 1.0000 - val_loss: 4.4051 - val_accuracy: 0.4865\n",
            "Epoch 50/50\n",
            "2/2 [==============================] - 2s 2s/step - loss: 0.0044 - accuracy: 1.0000 - val_loss: 4.3005 - val_accuracy: 0.4730\n"
          ]
        }
      ]
    },
    {
      "cell_type": "code",
      "source": [
        "#đánh giá chất lượng của mô hình và vẽ lại\n",
        "score = model.evaluate(test,verbose=0)\n",
        "print('Sai số kiểm tra là: ',score[0])\n",
        "print('Độ chính xác kiểm tra là: ',score[1])"
      ],
      "metadata": {
        "colab": {
          "base_uri": "https://localhost:8080/"
        },
        "id": "8pYD6qaSDDdR",
        "outputId": "f28aa058-4c0f-407f-e6c1-598011579d73"
      },
      "execution_count": null,
      "outputs": [
        {
          "output_type": "stream",
          "name": "stdout",
          "text": [
            "Sai số kiểm tra là:  4.893266201019287\n",
            "Độ chính xác kiểm tra là:  0.47297295928001404\n"
          ]
        }
      ]
    },
    {
      "cell_type": "code",
      "source": [
        "plt.plot(history.history['accuracy'])\n",
        "plt.plot(history.history['val_accuracy'])\n",
        "plt.title('Model Accuracy')\n",
        "plt.ylabel('accuracy')\n",
        "plt.xlabel('epochs')\n",
        "plt.legend(['train','validation'],loc='upper_left')"
      ],
      "metadata": {
        "colab": {
          "base_uri": "https://localhost:8080/",
          "height": 575
        },
        "id": "nTaKErfY8ZJi",
        "outputId": "a9f21bb6-fca3-46cc-f621-80bd94cb9047"
      },
      "execution_count": null,
      "outputs": [
        {
          "output_type": "stream",
          "name": "stderr",
          "text": [
            "/usr/local/lib/python3.7/dist-packages/ipykernel_launcher.py:6: MatplotlibDeprecationWarning: Unrecognized location 'upper_left'. Falling back on 'best'; valid locations are\n",
            "\tbest\n",
            "\tupper right\n",
            "\tupper left\n",
            "\tlower left\n",
            "\tlower right\n",
            "\tright\n",
            "\tcenter left\n",
            "\tcenter right\n",
            "\tlower center\n",
            "\tupper center\n",
            "\tcenter\n",
            "This will raise an exception in 3.3.\n",
            "  \n"
          ]
        },
        {
          "output_type": "execute_result",
          "data": {
            "text/plain": [
              "<matplotlib.legend.Legend at 0x7faf0e5cf290>"
            ]
          },
          "metadata": {},
          "execution_count": 14
        },
        {
          "output_type": "display_data",
          "data": {
            "text/plain": [
              "<Figure size 432x288 with 1 Axes>"
            ],
            "image/png": "[encoded data removed]"
          },
          "metadata": {
            "needs_background": "light"
          }
        }
      ]
    },
    {
      "cell_type": "code",
      "source": [
        "model.save('Traicay_CNN.h5')"
      ],
      "metadata": {
        "id": "9FG9t9jYEu-C"
      },
      "execution_count": null,
      "outputs": []
    },
    {
      "cell_type": "code",
      "source": [
        "from tensorflow.keras.models import load_model\n",
        "model=load_model('Traicay_CNN.h5')"
      ],
      "metadata": {
        "id": "kDcrqncdE0Tv"
      },
      "execution_count": null,
      "outputs": []
    },
    {
      "cell_type": "code",
      "source": [
        "fruit = [\n",
        "'chanh',\n",
        " 'chuoi',\n",
        " 'dau',\n",
        " 'dua',\n",
        " 'duahau',\n",
        " 'kiwi',\n",
        " 'nho',\n",
        " 'tao',\n",
        " 'thanhlong',\n",
        " 'xoai']"
      ],
      "metadata": {
        "id": "H6p9QBZ_E44v"
      },
      "execution_count": null,
      "outputs": []
    },
    {
      "cell_type": "code",
      "source": [
        "img = load_img(\"dua15.jpg\",target_size = (256,256))\n",
        "plt.imshow(img)\n",
        "img=img_to_array(img)\n",
        "img=img.reshape(1,256,256,3)\n",
        "img=img.astype('float32')\n",
        "img=img/255\n"
      ],
      "metadata": {
        "colab": {
          "base_uri": "https://localhost:8080/",
          "height": 269
        },
        "id": "4jMJdpVcGMOv",
        "outputId": "78bc4473-c569-40ae-d09d-2e4b83be6a6d"
      },
      "execution_count": null,
      "outputs": [
        {
          "output_type": "display_data",
          "data": {
            "text/plain": [
              "<Figure size 432x288 with 1 Axes>"
            ],
            "image/png": "[encoded data removed]"
          },
          "metadata": {
            "needs_background": "light"
          }
        }
      ]
    },
    {
      "cell_type": "code",
      "source": [
        "np.argmax(model.predict(img),axis=1)\n",
        "#'chanh': 0,\n",
        "#'chuoi': 1,\n",
        "#'dau': 2,\n",
        "#'dua': 3,\n",
        "#'duahau': 4,\n",
        "#'kiwi': 5,\n",
        "#'nho': 6,\n",
        "#'tao': 7,\n",
        "#'thanhlong': 8,\n",
        "#'xoai': 9"
      ],
      "metadata": {
        "colab": {
          "base_uri": "https://localhost:8080/"
        },
        "id": "OPulOv6WGswr",
        "outputId": "e6d66c21-a0da-46a1-b0e4-bc7bf9301453"
      },
      "execution_count": null,
      "outputs": [
        {
          "output_type": "execute_result",
          "data": {
            "text/plain": [
              "array([3])"
            ]
          },
          "metadata": {},
          "execution_count": 39
        }
      ]
    },
    {
      "cell_type": "code",
      "source": [
        "from google.colab import drive\n",
        "drive.mount('/content/drive')\n",
        "!wget -nc https://raw.githubusercontent.com/brpy/colab-pdf/master/colab_pdf.py\n",
        "from colab_pdf import colab_pdf\n",
        "colab_pdf('Traicay_CNN.ipynb')"
      ],
      "metadata": {
        "colab": {
          "base_uri": "https://localhost:8080/",
          "height": 556
        },
        "id": "50V4_l20H6Lm",
        "outputId": "80d83e22-267b-40f0-8e83-48e5ac15b766"
      },
      "execution_count": null,
      "outputs": [
        {
          "output_type": "stream",
          "name": "stdout",
          "text": [
            "Drive already mounted at /content/drive; to attempt to forcibly remount, call drive.mount(\"/content/drive\", force_remount=True).\n",
            "--2022-05-25 16:53:18--  https://raw.githubusercontent.com/brpy/colab-pdf/master/colab_pdf.py\n",
            "Resolving raw.githubusercontent.com (raw.githubusercontent.com)... 185.199.108.133, 185.199.109.133, 185.199.110.133, ...\n",
            "Connecting to raw.githubusercontent.com (raw.githubusercontent.com)|185.199.108.133|:443... connected.\n",
            "HTTP request sent, awaiting response... 200 OK\n",
            "Length: 1864 (1.8K) [text/plain]\n",
            "Saving to: ‘colab_pdf.py’\n",
            "\n",
            "colab_pdf.py        100%[===================>]   1.82K  --.-KB/s    in 0s      \n",
            "\n",
            "2022-05-25 16:53:18 (30.6 MB/s) - ‘colab_pdf.py’ saved [1864/1864]\n",
            "\n",
            "\n",
            "WARNING: apt does not have a stable CLI interface. Use with caution in scripts.\n",
            "\n",
            "\n",
            "WARNING: apt does not have a stable CLI interface. Use with caution in scripts.\n",
            "\n",
            "Extracting templates from packages: 100%\n",
            "[NbConvertApp] Converting notebook /content/drive/MyDrive/Colab Notebooks/Traicay_CNN.ipynb to pdf\n",
            "[NbConvertApp] Support files will be in Traicay_CNN_files/\n",
            "[NbConvertApp] Making directory ./Traicay_CNN_files\n",
            "[NbConvertApp] Making directory ./Traicay_CNN_files\n",
            "[NbConvertApp] Writing 47536 bytes to ./notebook.tex\n",
            "[NbConvertApp] Building PDF\n",
            "[NbConvertApp] Running xelatex 3 times: ['xelatex', './notebook.tex', '-quiet']\n",
            "[NbConvertApp] Running bibtex 1 time: ['bibtex', './notebook']\n",
            "[NbConvertApp] WARNING | bibtex had problems, most likely because there were no citations\n",
            "[NbConvertApp] PDF successfully created\n",
            "[NbConvertApp] Writing 108977 bytes to /content/drive/My Drive/Traicay_CNN.pdf\n"
          ]
        },
        {
          "output_type": "display_data",
          "data": {
            "text/plain": [
              "<IPython.core.display.Javascript object>"
            ],
            "application/javascript": [
              "\n",
              "    async function download(id, filename, size) {\n",
              "      if (!google.colab.kernel.accessAllowed) {\n",
              "        return;\n",
              "      }\n",
              "      const div = document.createElement('div');\n",
              "      const label = document.createElement('label');\n",
              "      label.textContent = `Downloading \"${filename}\": `;\n",
              "      div.appendChild(label);\n",
              "      const progress = document.createElement('progress');\n",
              "      progress.max = size;\n",
              "      div.appendChild(progress);\n",
              "      document.body.appendChild(div);\n",
              "\n",
              "      const buffers = [];\n",
              "      let downloaded = 0;\n",
              "\n",
              "      const channel = await google.colab.kernel.comms.open(id);\n",
              "      // Send a message to notify the kernel that we're ready.\n",
              "      channel.send({})\n",
              "\n",
              "      for await (const message of channel.messages) {\n",
              "        // Send a message to notify the kernel that we're ready.\n",
              "        channel.send({})\n",
              "        if (message.buffers) {\n",
              "          for (const buffer of message.buffers) {\n",
              "            buffers.push(buffer);\n",
              "            downloaded += buffer.byteLength;\n",
              "            progress.value = downloaded;\n",
              "          }\n",
              "        }\n",
              "      }\n",
              "      const blob = new Blob(buffers, {type: 'application/binary'});\n",
              "      const a = document.createElement('a');\n",
              "      a.href = window.URL.createObjectURL(blob);\n",
              "      a.download = filename;\n",
              "      div.appendChild(a);\n",
              "      a.click();\n",
              "      div.remove();\n",
              "    }\n",
              "  "
            ]
          },
          "metadata": {}
        },
        {
          "output_type": "display_data",
          "data": {
            "text/plain": [
              "<IPython.core.display.Javascript object>"
            ],
            "application/javascript": [
              "download(\"download_06189859-15e4-4ab1-b334-38f02dc2f2b6\", \"Traicay_CNN.pdf\", 108977)"
            ]
          },
          "metadata": {}
        },
        {
          "output_type": "execute_result",
          "data": {
            "text/plain": [
              "'File ready to be Downloaded and Saved to Drive'"
            ],
            "application/vnd.google.colaboratory.intrinsic+json": {
              "type": "string"
            }
          },
          "metadata": {},
          "execution_count": 40
        }
      ]
    }
  ]
}