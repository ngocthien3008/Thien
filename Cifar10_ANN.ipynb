{
  "nbformat": 4,
  "nbformat_minor": 0,
  "metadata": {
    "colab": {
      "name": "Cifar10-ANN.ipynb",
      "provenance": [],
      "collapsed_sections": []
    },
    "kernelspec": {
      "name": "python3",
      "display_name": "Python 3"
    },
    "language_info": {
      "name": "python"
    }
  },
  "cells": [
    {
      "cell_type": "code",
      "execution_count": 1,
      "metadata": {
        "id": "cSpaxivngozy"
      },
      "outputs": [],
      "source": [
        "#KHAI BAO TV\n",
        "import numpy as np\n",
        "import pandas as pd\n",
        "import cv2\n",
        "from keras.models import Sequential\n",
        "from tensorflow.keras import datasets, layers,models\n",
        "import matplotlib.pyplot as plt\n",
        "from tensorflow import keras\n",
        "from keras.layers import Dense, Activation, Dropout,Flatten\n",
        "from keras.datasets import cifar10\n",
        "from tensorflow.keras.optimizers import Adam\n",
        "from sklearn.preprocessing import StandardScaler\n",
        "from keras.utils import np_utils\n",
        "import tensorflow as tf\n",
        "\n"
      ]
    },
    {
      "cell_type": "code",
      "source": [
        "(x_train,y_train),(x_test,y_test)=cifar10.load_data()\n",
        "x_pre = x_test\n",
        "y_ktr = y_test\n",
        "x_train = x_train.reshape(x_train.shape[0], -1)\n",
        "x_test = x_test.reshape(x_test.shape[0], -1)\n",
        "x_train = x_train.astype('float32')\n",
        "x_test = x_test.astype('float32')"
      ],
      "metadata": {
        "colab": {
          "base_uri": "https://localhost:8080/"
        },
        "id": "-Yz6hnTOiOS9",
        "outputId": "2a609f32-6bd8-4223-ba81-52de66f333f8"
      },
      "execution_count": 2,
      "outputs": [
        {
          "output_type": "stream",
          "name": "stdout",
          "text": [
            "Downloading data from https://www.cs.toronto.edu/~kriz/cifar-10-python.tar.gz\n",
            "170500096/170498071 [==============================] - 3s 0us/step\n",
            "170508288/170498071 [==============================] - 3s 0us/step\n"
          ]
        }
      ]
    },
    {
      "cell_type": "code",
      "source": [
        "# đưa giá trị về từ 0-1\n",
        "x_train /= 255\n",
        "x_test /= 255\n",
        "y_train = np_utils.to_categorical(y_train, 100)\n",
        "y_test = np_utils.to_categorical(y_test, 100)\n"
      ],
      "metadata": {
        "id": "vK9AVNhUiUAF"
      },
      "execution_count": 3,
      "outputs": []
    },
    {
      "cell_type": "code",
      "source": [
        "model = Sequential()\n",
        "model.add(Dense(512, activation='relu',\n",
        "input_shape = (x_train.shape[1],)))\n",
        "model.add(Dropout(0.1))\n",
        "model.add(Dense(256,activation='relu'))\n",
        "model.add(Dropout(0.1))\n",
        "model.add(Dense(256,activation='relu'))\n",
        "model.add(Dropout(0.1))\n",
        "model.add(Dense(100,activation='softmax'))\n",
        "model.summary()\n",
        "model.compile(loss='mean_squared_error',\n",
        "optimizer =Adam(), metrics=['acc'])\n",
        "history = model.fit(x_train, y_train, batch_size =256, epochs = 100, validation_split = 0.2)\n",
        "model.save('CIFAR10')"
      ],
      "metadata": {
        "colab": {
          "base_uri": "https://localhost:8080/"
        },
        "id": "qUjZf4IeiWIF",
        "outputId": "13831f29-18fb-4392-c71d-dd07f706fc01"
      },
      "execution_count": 4,
      "outputs": [
        {
          "output_type": "stream",
          "name": "stdout",
          "text": [
            "Model: \"sequential\"\n",
            "_________________________________________________________________\n",
            " Layer (type)                Output Shape              Param #   \n",
            "=================================================================\n",
            " dense (Dense)               (None, 512)               1573376   \n",
            "                                                                 \n",
            " dropout (Dropout)           (None, 512)               0         \n",
            "                                                                 \n",
            " dense_1 (Dense)             (None, 256)               131328    \n",
            "                                                                 \n",
            " dropout_1 (Dropout)         (None, 256)               0         \n",
            "                                                                 \n",
            " dense_2 (Dense)             (None, 256)               65792     \n",
            "                                                                 \n",
            " dropout_2 (Dropout)         (None, 256)               0         \n",
            "                                                                 \n",
            " dense_3 (Dense)             (None, 100)               25700     \n",
            "                                                                 \n",
            "=================================================================\n",
            "Total params: 1,796,196\n",
            "Trainable params: 1,796,196\n",
            "Non-trainable params: 0\n",
            "_________________________________________________________________\n",
            "Epoch 1/100\n",
            "157/157 [==============================] - 12s 63ms/step - loss: 0.0086 - acc: 0.2454 - val_loss: 0.0080 - val_acc: 0.3172\n",
            "Epoch 2/100\n",
            "157/157 [==============================] - 9s 60ms/step - loss: 0.0078 - acc: 0.3369 - val_loss: 0.0076 - val_acc: 0.3716\n",
            "Epoch 3/100\n",
            "157/157 [==============================] - 9s 59ms/step - loss: 0.0076 - acc: 0.3698 - val_loss: 0.0074 - val_acc: 0.3970\n",
            "Epoch 4/100\n",
            "157/157 [==============================] - 9s 60ms/step - loss: 0.0075 - acc: 0.3856 - val_loss: 0.0075 - val_acc: 0.3813\n",
            "Epoch 5/100\n",
            "157/157 [==============================] - 9s 59ms/step - loss: 0.0073 - acc: 0.4040 - val_loss: 0.0072 - val_acc: 0.4177\n",
            "Epoch 6/100\n",
            "157/157 [==============================] - 9s 60ms/step - loss: 0.0071 - acc: 0.4215 - val_loss: 0.0071 - val_acc: 0.4284\n",
            "Epoch 7/100\n",
            "157/157 [==============================] - 9s 59ms/step - loss: 0.0070 - acc: 0.4310 - val_loss: 0.0070 - val_acc: 0.4330\n",
            "Epoch 8/100\n",
            "157/157 [==============================] - 9s 60ms/step - loss: 0.0070 - acc: 0.4414 - val_loss: 0.0069 - val_acc: 0.4314\n",
            "Epoch 9/100\n",
            "157/157 [==============================] - 9s 59ms/step - loss: 0.0069 - acc: 0.4459 - val_loss: 0.0069 - val_acc: 0.4473\n",
            "Epoch 10/100\n",
            "157/157 [==============================] - 10s 62ms/step - loss: 0.0068 - acc: 0.4539 - val_loss: 0.0068 - val_acc: 0.4505\n",
            "Epoch 11/100\n",
            "157/157 [==============================] - 11s 72ms/step - loss: 0.0068 - acc: 0.4625 - val_loss: 0.0068 - val_acc: 0.4636\n",
            "Epoch 12/100\n",
            "157/157 [==============================] - 10s 61ms/step - loss: 0.0067 - acc: 0.4678 - val_loss: 0.0067 - val_acc: 0.4651\n",
            "Epoch 13/100\n",
            "157/157 [==============================] - 9s 59ms/step - loss: 0.0066 - acc: 0.4754 - val_loss: 0.0067 - val_acc: 0.4687\n",
            "Epoch 14/100\n",
            "157/157 [==============================] - 9s 60ms/step - loss: 0.0066 - acc: 0.4764 - val_loss: 0.0067 - val_acc: 0.4688\n",
            "Epoch 15/100\n",
            "157/157 [==============================] - 9s 59ms/step - loss: 0.0066 - acc: 0.4836 - val_loss: 0.0067 - val_acc: 0.4642\n",
            "Epoch 16/100\n",
            "157/157 [==============================] - 9s 60ms/step - loss: 0.0065 - acc: 0.4880 - val_loss: 0.0066 - val_acc: 0.4716\n",
            "Epoch 17/100\n",
            "157/157 [==============================] - 9s 59ms/step - loss: 0.0065 - acc: 0.4882 - val_loss: 0.0066 - val_acc: 0.4735\n",
            "Epoch 18/100\n",
            "157/157 [==============================] - 10s 61ms/step - loss: 0.0064 - acc: 0.4928 - val_loss: 0.0066 - val_acc: 0.4784\n",
            "Epoch 19/100\n",
            "157/157 [==============================] - 9s 60ms/step - loss: 0.0064 - acc: 0.4987 - val_loss: 0.0065 - val_acc: 0.4850\n",
            "Epoch 20/100\n",
            "157/157 [==============================] - 9s 60ms/step - loss: 0.0063 - acc: 0.5068 - val_loss: 0.0065 - val_acc: 0.4790\n",
            "Epoch 21/100\n",
            "157/157 [==============================] - 9s 60ms/step - loss: 0.0063 - acc: 0.5028 - val_loss: 0.0066 - val_acc: 0.4784\n",
            "Epoch 22/100\n",
            "157/157 [==============================] - 10s 62ms/step - loss: 0.0062 - acc: 0.5136 - val_loss: 0.0066 - val_acc: 0.4798\n",
            "Epoch 23/100\n",
            "157/157 [==============================] - 10s 63ms/step - loss: 0.0062 - acc: 0.5162 - val_loss: 0.0065 - val_acc: 0.4878\n",
            "Epoch 24/100\n",
            "157/157 [==============================] - 10s 63ms/step - loss: 0.0062 - acc: 0.5192 - val_loss: 0.0066 - val_acc: 0.4757\n",
            "Epoch 25/100\n",
            "157/157 [==============================] - 10s 62ms/step - loss: 0.0062 - acc: 0.5222 - val_loss: 0.0066 - val_acc: 0.4840\n",
            "Epoch 26/100\n",
            "157/157 [==============================] - 10s 62ms/step - loss: 0.0061 - acc: 0.5240 - val_loss: 0.0065 - val_acc: 0.4820\n",
            "Epoch 27/100\n",
            "157/157 [==============================] - 10s 64ms/step - loss: 0.0061 - acc: 0.5276 - val_loss: 0.0065 - val_acc: 0.4817\n",
            "Epoch 28/100\n",
            "157/157 [==============================] - 10s 61ms/step - loss: 0.0061 - acc: 0.5286 - val_loss: 0.0065 - val_acc: 0.4904\n",
            "Epoch 29/100\n",
            "157/157 [==============================] - 10s 62ms/step - loss: 0.0060 - acc: 0.5357 - val_loss: 0.0064 - val_acc: 0.5044\n",
            "Epoch 30/100\n",
            "157/157 [==============================] - 10s 61ms/step - loss: 0.0060 - acc: 0.5396 - val_loss: 0.0065 - val_acc: 0.4920\n",
            "Epoch 31/100\n",
            "157/157 [==============================] - 10s 62ms/step - loss: 0.0059 - acc: 0.5406 - val_loss: 0.0064 - val_acc: 0.5026\n",
            "Epoch 32/100\n",
            "157/157 [==============================] - 10s 61ms/step - loss: 0.0059 - acc: 0.5480 - val_loss: 0.0064 - val_acc: 0.4938\n",
            "Epoch 33/100\n",
            "157/157 [==============================] - 10s 63ms/step - loss: 0.0059 - acc: 0.5453 - val_loss: 0.0064 - val_acc: 0.4963\n",
            "Epoch 34/100\n",
            "157/157 [==============================] - 10s 62ms/step - loss: 0.0059 - acc: 0.5482 - val_loss: 0.0064 - val_acc: 0.4997\n",
            "Epoch 35/100\n",
            "157/157 [==============================] - 10s 62ms/step - loss: 0.0058 - acc: 0.5519 - val_loss: 0.0064 - val_acc: 0.4958\n",
            "Epoch 36/100\n",
            "157/157 [==============================] - 10s 62ms/step - loss: 0.0058 - acc: 0.5542 - val_loss: 0.0064 - val_acc: 0.4962\n",
            "Epoch 37/100\n",
            "157/157 [==============================] - 10s 62ms/step - loss: 0.0058 - acc: 0.5573 - val_loss: 0.0062 - val_acc: 0.5162\n",
            "Epoch 38/100\n",
            "157/157 [==============================] - 10s 61ms/step - loss: 0.0057 - acc: 0.5601 - val_loss: 0.0063 - val_acc: 0.5030\n",
            "Epoch 39/100\n",
            "157/157 [==============================] - 10s 62ms/step - loss: 0.0057 - acc: 0.5622 - val_loss: 0.0063 - val_acc: 0.5104\n",
            "Epoch 40/100\n",
            "157/157 [==============================] - 10s 61ms/step - loss: 0.0057 - acc: 0.5692 - val_loss: 0.0063 - val_acc: 0.5090\n",
            "Epoch 41/100\n",
            "157/157 [==============================] - 10s 62ms/step - loss: 0.0056 - acc: 0.5688 - val_loss: 0.0064 - val_acc: 0.5024\n",
            "Epoch 42/100\n",
            "157/157 [==============================] - 10s 61ms/step - loss: 0.0056 - acc: 0.5704 - val_loss: 0.0063 - val_acc: 0.5103\n",
            "Epoch 43/100\n",
            "157/157 [==============================] - 10s 62ms/step - loss: 0.0056 - acc: 0.5724 - val_loss: 0.0063 - val_acc: 0.5082\n",
            "Epoch 44/100\n",
            "157/157 [==============================] - 10s 62ms/step - loss: 0.0056 - acc: 0.5734 - val_loss: 0.0063 - val_acc: 0.5084\n",
            "Epoch 45/100\n",
            "157/157 [==============================] - 10s 61ms/step - loss: 0.0056 - acc: 0.5773 - val_loss: 0.0062 - val_acc: 0.5082\n",
            "Epoch 46/100\n",
            "157/157 [==============================] - 10s 61ms/step - loss: 0.0056 - acc: 0.5764 - val_loss: 0.0063 - val_acc: 0.5153\n",
            "Epoch 47/100\n",
            "157/157 [==============================] - 10s 61ms/step - loss: 0.0056 - acc: 0.5768 - val_loss: 0.0066 - val_acc: 0.4889\n",
            "Epoch 48/100\n",
            "157/157 [==============================] - 10s 61ms/step - loss: 0.0055 - acc: 0.5810 - val_loss: 0.0064 - val_acc: 0.5036\n",
            "Epoch 49/100\n",
            "157/157 [==============================] - 10s 61ms/step - loss: 0.0054 - acc: 0.5874 - val_loss: 0.0063 - val_acc: 0.5073\n",
            "Epoch 50/100\n",
            "157/157 [==============================] - 10s 61ms/step - loss: 0.0054 - acc: 0.5880 - val_loss: 0.0062 - val_acc: 0.5132\n",
            "Epoch 51/100\n",
            "157/157 [==============================] - 9s 61ms/step - loss: 0.0055 - acc: 0.5858 - val_loss: 0.0063 - val_acc: 0.5074\n",
            "Epoch 52/100\n",
            "157/157 [==============================] - 9s 60ms/step - loss: 0.0054 - acc: 0.5886 - val_loss: 0.0063 - val_acc: 0.5115\n",
            "Epoch 53/100\n",
            "157/157 [==============================] - 10s 61ms/step - loss: 0.0053 - acc: 0.5961 - val_loss: 0.0064 - val_acc: 0.5023\n",
            "Epoch 54/100\n",
            "157/157 [==============================] - 10s 61ms/step - loss: 0.0054 - acc: 0.5942 - val_loss: 0.0062 - val_acc: 0.5164\n",
            "Epoch 55/100\n",
            "157/157 [==============================] - 10s 61ms/step - loss: 0.0054 - acc: 0.5960 - val_loss: 0.0063 - val_acc: 0.5095\n",
            "Epoch 56/100\n",
            "157/157 [==============================] - 9s 60ms/step - loss: 0.0053 - acc: 0.5997 - val_loss: 0.0063 - val_acc: 0.5109\n",
            "Epoch 57/100\n",
            "157/157 [==============================] - 9s 60ms/step - loss: 0.0052 - acc: 0.6061 - val_loss: 0.0065 - val_acc: 0.4967\n",
            "Epoch 58/100\n",
            "157/157 [==============================] - 10s 62ms/step - loss: 0.0053 - acc: 0.5994 - val_loss: 0.0067 - val_acc: 0.4860\n",
            "Epoch 59/100\n",
            "157/157 [==============================] - 9s 60ms/step - loss: 0.0053 - acc: 0.6051 - val_loss: 0.0063 - val_acc: 0.5067\n",
            "Epoch 60/100\n",
            "157/157 [==============================] - 10s 61ms/step - loss: 0.0052 - acc: 0.6053 - val_loss: 0.0064 - val_acc: 0.5085\n",
            "Epoch 61/100\n",
            "157/157 [==============================] - 10s 61ms/step - loss: 0.0052 - acc: 0.6115 - val_loss: 0.0063 - val_acc: 0.5140\n",
            "Epoch 62/100\n",
            "157/157 [==============================] - 9s 60ms/step - loss: 0.0052 - acc: 0.6119 - val_loss: 0.0064 - val_acc: 0.4996\n",
            "Epoch 63/100\n",
            "157/157 [==============================] - 9s 59ms/step - loss: 0.0052 - acc: 0.6105 - val_loss: 0.0064 - val_acc: 0.5053\n",
            "Epoch 64/100\n",
            "157/157 [==============================] - 10s 61ms/step - loss: 0.0052 - acc: 0.6122 - val_loss: 0.0063 - val_acc: 0.5113\n",
            "Epoch 65/100\n",
            "157/157 [==============================] - 9s 60ms/step - loss: 0.0051 - acc: 0.6183 - val_loss: 0.0064 - val_acc: 0.5088\n",
            "Epoch 66/100\n",
            "157/157 [==============================] - 10s 62ms/step - loss: 0.0052 - acc: 0.6147 - val_loss: 0.0064 - val_acc: 0.5063\n",
            "Epoch 67/100\n",
            "157/157 [==============================] - 9s 60ms/step - loss: 0.0051 - acc: 0.6169 - val_loss: 0.0063 - val_acc: 0.5095\n",
            "Epoch 68/100\n",
            "157/157 [==============================] - 10s 62ms/step - loss: 0.0051 - acc: 0.6186 - val_loss: 0.0063 - val_acc: 0.5136\n",
            "Epoch 69/100\n",
            "157/157 [==============================] - 10s 61ms/step - loss: 0.0051 - acc: 0.6186 - val_loss: 0.0064 - val_acc: 0.5091\n",
            "Epoch 70/100\n",
            "157/157 [==============================] - 10s 62ms/step - loss: 0.0051 - acc: 0.6168 - val_loss: 0.0065 - val_acc: 0.5035\n",
            "Epoch 71/100\n",
            "157/157 [==============================] - 9s 60ms/step - loss: 0.0051 - acc: 0.6217 - val_loss: 0.0064 - val_acc: 0.5122\n",
            "Epoch 72/100\n",
            "157/157 [==============================] - 10s 62ms/step - loss: 0.0051 - acc: 0.6218 - val_loss: 0.0063 - val_acc: 0.5156\n",
            "Epoch 73/100\n",
            "157/157 [==============================] - 10s 61ms/step - loss: 0.0050 - acc: 0.6263 - val_loss: 0.0063 - val_acc: 0.5124\n",
            "Epoch 74/100\n",
            "157/157 [==============================] - 10s 62ms/step - loss: 0.0050 - acc: 0.6255 - val_loss: 0.0064 - val_acc: 0.5127\n",
            "Epoch 75/100\n",
            "157/157 [==============================] - 9s 60ms/step - loss: 0.0050 - acc: 0.6259 - val_loss: 0.0063 - val_acc: 0.5079\n",
            "Epoch 76/100\n",
            "157/157 [==============================] - 9s 60ms/step - loss: 0.0050 - acc: 0.6286 - val_loss: 0.0064 - val_acc: 0.5088\n",
            "Epoch 77/100\n",
            "157/157 [==============================] - 9s 59ms/step - loss: 0.0049 - acc: 0.6328 - val_loss: 0.0063 - val_acc: 0.5174\n",
            "Epoch 78/100\n",
            "157/157 [==============================] - 9s 60ms/step - loss: 0.0050 - acc: 0.6311 - val_loss: 0.0064 - val_acc: 0.5082\n",
            "Epoch 79/100\n",
            "157/157 [==============================] - 9s 59ms/step - loss: 0.0050 - acc: 0.6326 - val_loss: 0.0064 - val_acc: 0.5139\n",
            "Epoch 80/100\n",
            "157/157 [==============================] - 9s 60ms/step - loss: 0.0049 - acc: 0.6356 - val_loss: 0.0064 - val_acc: 0.5060\n",
            "Epoch 81/100\n",
            "157/157 [==============================] - 9s 60ms/step - loss: 0.0049 - acc: 0.6370 - val_loss: 0.0064 - val_acc: 0.5128\n",
            "Epoch 82/100\n",
            "157/157 [==============================] - 10s 61ms/step - loss: 0.0049 - acc: 0.6364 - val_loss: 0.0064 - val_acc: 0.5070\n",
            "Epoch 83/100\n",
            "157/157 [==============================] - 9s 60ms/step - loss: 0.0049 - acc: 0.6402 - val_loss: 0.0065 - val_acc: 0.5059\n",
            "Epoch 84/100\n",
            "157/157 [==============================] - 9s 60ms/step - loss: 0.0049 - acc: 0.6346 - val_loss: 0.0065 - val_acc: 0.5121\n",
            "Epoch 85/100\n",
            "157/157 [==============================] - 9s 60ms/step - loss: 0.0049 - acc: 0.6362 - val_loss: 0.0064 - val_acc: 0.5123\n",
            "Epoch 86/100\n",
            "157/157 [==============================] - 10s 61ms/step - loss: 0.0049 - acc: 0.6377 - val_loss: 0.0064 - val_acc: 0.5113\n",
            "Epoch 87/100\n",
            "157/157 [==============================] - 9s 60ms/step - loss: 0.0049 - acc: 0.6391 - val_loss: 0.0064 - val_acc: 0.5133\n",
            "Epoch 88/100\n",
            "157/157 [==============================] - 10s 61ms/step - loss: 0.0048 - acc: 0.6425 - val_loss: 0.0064 - val_acc: 0.5027\n",
            "Epoch 89/100\n",
            "157/157 [==============================] - 10s 61ms/step - loss: 0.0049 - acc: 0.6402 - val_loss: 0.0064 - val_acc: 0.5147\n",
            "Epoch 90/100\n",
            "157/157 [==============================] - 10s 61ms/step - loss: 0.0049 - acc: 0.6409 - val_loss: 0.0064 - val_acc: 0.5164\n",
            "Epoch 91/100\n",
            "157/157 [==============================] - 9s 61ms/step - loss: 0.0048 - acc: 0.6464 - val_loss: 0.0063 - val_acc: 0.5168\n",
            "Epoch 92/100\n",
            "157/157 [==============================] - 10s 61ms/step - loss: 0.0048 - acc: 0.6457 - val_loss: 0.0064 - val_acc: 0.5165\n",
            "Epoch 93/100\n",
            "157/157 [==============================] - 10s 61ms/step - loss: 0.0048 - acc: 0.6468 - val_loss: 0.0064 - val_acc: 0.5096\n",
            "Epoch 94/100\n",
            "157/157 [==============================] - 10s 62ms/step - loss: 0.0048 - acc: 0.6483 - val_loss: 0.0064 - val_acc: 0.5107\n",
            "Epoch 95/100\n",
            "157/157 [==============================] - 10s 61ms/step - loss: 0.0047 - acc: 0.6522 - val_loss: 0.0065 - val_acc: 0.5027\n",
            "Epoch 96/100\n",
            "157/157 [==============================] - 10s 62ms/step - loss: 0.0048 - acc: 0.6512 - val_loss: 0.0064 - val_acc: 0.5141\n",
            "Epoch 97/100\n",
            "157/157 [==============================] - 10s 61ms/step - loss: 0.0047 - acc: 0.6536 - val_loss: 0.0065 - val_acc: 0.5097\n",
            "Epoch 98/100\n",
            "157/157 [==============================] - 10s 62ms/step - loss: 0.0047 - acc: 0.6575 - val_loss: 0.0065 - val_acc: 0.5141\n",
            "Epoch 99/100\n",
            "157/157 [==============================] - 10s 61ms/step - loss: 0.0047 - acc: 0.6560 - val_loss: 0.0065 - val_acc: 0.5025\n",
            "Epoch 100/100\n",
            "157/157 [==============================] - 10s 62ms/step - loss: 0.0047 - acc: 0.6529 - val_loss: 0.0065 - val_acc: 0.5075\n",
            "INFO:tensorflow:Assets written to: CIFAR10/assets\n"
          ]
        }
      ]
    },
    {
      "cell_type": "code",
      "source": [
        "plt.plot(history.history['acc'])\n",
        "plt.plot(history.history['val_acc'])\n",
        "plt.title('Model Accuracy')\n",
        "plt.ylabel('accuracy')\n",
        "plt.xlabel('epoch')\n",
        "plt.legend(['train','validation'],loc='upper left')"
      ],
      "metadata": {
        "colab": {
          "base_uri": "https://localhost:8080/",
          "height": 312
        },
        "id": "OGWNsvyUgt9u",
        "outputId": "f4bf7a39-77c9-4fa9-d219-68e3cc1ac6e9"
      },
      "execution_count": 6,
      "outputs": [
        {
          "output_type": "execute_result",
          "data": {
            "text/plain": [
              "<matplotlib.legend.Legend at 0x7f55af2af050>"
            ]
          },
          "metadata": {},
          "execution_count": 6
        },
        {
          "output_type": "display_data",
          "data": {
            "text/plain": [
              "<Figure size 432x288 with 1 Axes>"
            ],
            "image/png": "[encoded data removed]"
          },
          "metadata": {
            "needs_background": "light"
          }
        }
      ]
    },
    {
      "cell_type": "code",
      "source": [
        "#VẼ ĐỒ THỊ VAL-ACC\n",
        "import matplotlib.pyplot as plt\n",
        "plt.subplot(212)\n",
        "plt.title('Val Accuracy')\n",
        "plt.plot(history.history['val_acc'], color='blue',\n",
        "label='train')\n",
        "Label = ['Airplane', 'Automobile', 'Bird', 'Cat',\n",
        "'Deer', 'Dog', 'Frog', 'Horse', 'Ship', 'Truck']\n",
        "test = 8000\n",
        "plt.title(\" Đoán là: \" +\n",
        "str(Label[np.argmax(model.predict(x_pre[test].reshape(-1,3072)))]))\n",
        "y_ktr[test]\n",
        "plt.imshow(x_pre[test],\n",
        "cmap=plt.get_cmap('gray'))"
      ],
      "metadata": {
        "colab": {
          "base_uri": "https://localhost:8080/",
          "height": 180
        },
        "id": "cBEwIYY5gzO9",
        "outputId": "b7840f34-6e21-4dd5-eab0-7c31289cf22f"
      },
      "execution_count": 12,
      "outputs": [
        {
          "output_type": "execute_result",
          "data": {
            "text/plain": [
              "<matplotlib.image.AxesImage at 0x7f55aa9bf550>"
            ]
          },
          "metadata": {},
          "execution_count": 12
        },
        {
          "output_type": "display_data",
          "data": {
            "text/plain": [
              "<Figure size 432x288 with 1 Axes>"
            ],
            "image/png": "[encoded data removed]"
          },
          "metadata": {
            "needs_background": "light"
          }
        }
      ]
    },
    {
      "cell_type": "code",
      "source": [
        "from google.colab import drive\n",
        "drive.mount('/content/drive')\n",
        "!wget -nc https://raw.githubusercontent.com/brpy/colab-pdf/master/colab_pdf.py\n",
        "from colab_pdf import colab_pdf\n",
        "colab_pdf('Cifar10-ANN.ipynb')"
      ],
      "metadata": {
        "colab": {
          "base_uri": "https://localhost:8080/",
          "height": 400
        },
        "id": "Y87FbUfinCA5",
        "outputId": "b7099c6e-49a2-43c9-d1a5-3b407f1c1552"
      },
      "execution_count": 15,
      "outputs": [
        {
          "output_type": "stream",
          "name": "stdout",
          "text": [
            "Drive already mounted at /content/drive; to attempt to forcibly remount, call drive.mount(\"/content/drive\", force_remount=True).\n",
            "File ‘colab_pdf.py’ already there; not retrieving.\n",
            "\n",
            "\n",
            "WARNING: apt does not have a stable CLI interface. Use with caution in scripts.\n",
            "\n",
            "\n",
            "WARNING: apt does not have a stable CLI interface. Use with caution in scripts.\n",
            "\n",
            "Extracting templates from packages: 100%\n",
            "[NbConvertApp] Converting notebook /content/drive/MyDrive/Colab Notebooks/Cifar10-ANN.ipynb to pdf\n",
            "[NbConvertApp] Support files will be in Cifar10-ANN_files/\n",
            "[NbConvertApp] Making directory ./Cifar10-ANN_files\n",
            "[NbConvertApp] Making directory ./Cifar10-ANN_files\n",
            "[NbConvertApp] Writing 47351 bytes to ./notebook.tex\n",
            "[NbConvertApp] Building PDF\n",
            "[NbConvertApp] Running xelatex 3 times: ['xelatex', './notebook.tex', '-quiet']\n",
            "[NbConvertApp] Running bibtex 1 time: ['bibtex', './notebook']\n",
            "[NbConvertApp] WARNING | bibtex had problems, most likely because there were no citations\n",
            "[NbConvertApp] PDF successfully created\n",
            "[NbConvertApp] Writing 58447 bytes to /content/drive/My Drive/Cifar10-ANN.pdf\n"
          ]
        },
        {
          "output_type": "display_data",
          "data": {
            "text/plain": [
              "<IPython.core.display.Javascript object>"
            ],
            "application/javascript": [
              "\n",
              "    async function download(id, filename, size) {\n",
              "      if (!google.colab.kernel.accessAllowed) {\n",
              "        return;\n",
              "      }\n",
              "      const div = document.createElement('div');\n",
              "      const label = document.createElement('label');\n",
              "      label.textContent = `Downloading \"${filename}\": `;\n",
              "      div.appendChild(label);\n",
              "      const progress = document.createElement('progress');\n",
              "      progress.max = size;\n",
              "      div.appendChild(progress);\n",
              "      document.body.appendChild(div);\n",
              "\n",
              "      const buffers = [];\n",
              "      let downloaded = 0;\n",
              "\n",
              "      const channel = await google.colab.kernel.comms.open(id);\n",
              "      // Send a message to notify the kernel that we're ready.\n",
              "      channel.send({})\n",
              "\n",
              "      for await (const message of channel.messages) {\n",
              "        // Send a message to notify the kernel that we're ready.\n",
              "        channel.send({})\n",
              "        if (message.buffers) {\n",
              "          for (const buffer of message.buffers) {\n",
              "            buffers.push(buffer);\n",
              "            downloaded += buffer.byteLength;\n",
              "            progress.value = downloaded;\n",
              "          }\n",
              "        }\n",
              "      }\n",
              "      const blob = new Blob(buffers, {type: 'application/binary'});\n",
              "      const a = document.createElement('a');\n",
              "      a.href = window.URL.createObjectURL(blob);\n",
              "      a.download = filename;\n",
              "      div.appendChild(a);\n",
              "      a.click();\n",
              "      div.remove();\n",
              "    }\n",
              "  "
            ]
          },
          "metadata": {}
        },
        {
          "output_type": "display_data",
          "data": {
            "text/plain": [
              "<IPython.core.display.Javascript object>"
            ],
            "application/javascript": [
              "download(\"download_d4f7853e-3227-4f34-be0e-01a9482c763c\", \"Cifar10-ANN.pdf\", 58447)"
            ]
          },
          "metadata": {}
        },
        {
          "output_type": "execute_result",
          "data": {
            "text/plain": [
              "'File ready to be Downloaded and Saved to Drive'"
            ],
            "application/vnd.google.colaboratory.intrinsic+json": {
              "type": "string"
            }
          },
          "metadata": {},
          "execution_count": 15
        }
      ]
    }
  ]
}